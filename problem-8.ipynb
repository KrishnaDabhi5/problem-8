{
 "cells": [
  {
   "cell_type": "code",
   "execution_count": 1,
   "id": "ae25c2de",
   "metadata": {},
   "outputs": [],
   "source": [
    "#Write a program to find the euclidean distance between two coordinates."
   ]
  },
  {
   "cell_type": "code",
   "execution_count": 2,
   "id": "afd03c5a",
   "metadata": {},
   "outputs": [
    {
     "name": "stdout",
     "output_type": "stream",
     "text": [
      "enter the x1 value: 10\n",
      "enter the x2 value: 5\n",
      "enter the y1 value: 7\n",
      "enter the y2 value: 2\n",
      "the euclidean distance between two coordinates is:  30.0\n"
     ]
    }
   ],
   "source": [
    "x1 = float(input(\"enter the x1 value: \"))\n",
    "x2 = float(input(\"enter the x2 value: \"))\n",
    "y1 = float(input(\"enter the y1 value: \"))\n",
    "y2 = float(input(\"enter the y2 value: \"))\n",
    "\n",
    "d = ((x2-x1)**2) + ((y2-y1)**2)**0.5\n",
    "print(\"the euclidean distance between two coordinates is: \",d)"
   ]
  },
  {
   "cell_type": "code",
   "execution_count": null,
   "id": "97c3a694",
   "metadata": {},
   "outputs": [],
   "source": []
  }
 ],
 "metadata": {
  "kernelspec": {
   "display_name": "Python 3 (ipykernel)",
   "language": "python",
   "name": "python3"
  },
  "language_info": {
   "codemirror_mode": {
    "name": "ipython",
    "version": 3
   },
   "file_extension": ".py",
   "mimetype": "text/x-python",
   "name": "python",
   "nbconvert_exporter": "python",
   "pygments_lexer": "ipython3",
   "version": "3.10.8"
  }
 },
 "nbformat": 4,
 "nbformat_minor": 5
}
